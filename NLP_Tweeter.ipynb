{
  "nbformat": 4,
  "nbformat_minor": 0,
  "metadata": {
    "colab": {
      "name": "NLP_Tweeter.ipynb",
      "provenance": [],
      "collapsed_sections": [],
      "mount_file_id": "1DxIlZxl_w7YZ_pXkBJtETu5APZdBKVO2",
      "authorship_tag": "ABX9TyNvs822Y7hRpipJOQyVVG5w",
      "include_colab_link": true
    },
    "kernelspec": {
      "name": "python3",
      "display_name": "Python 3"
    },
    "language_info": {
      "name": "python"
    }
  },
  "cells": [
    {
      "cell_type": "markdown",
      "metadata": {
        "id": "view-in-github",
        "colab_type": "text"
      },
      "source": [
        "<a href=\"https://colab.research.google.com/github/pattrickx/NLP_tweeter/blob/main/NLP_Tweeter.ipynb\" target=\"_parent\"><img src=\"https://colab.research.google.com/assets/colab-badge.svg\" alt=\"Open In Colab\"/></a>"
      ]
    },
    {
      "cell_type": "code",
      "source": [
        "from google.colab import drive\n",
        "drive.mount('/content/drive')"
      ],
      "metadata": {
        "colab": {
          "base_uri": "https://localhost:8080/"
        },
        "id": "fR0s--PEYtRr",
        "outputId": "303be9e4-4b88-4fb8-c4f6-7e7630d0f047"
      },
      "execution_count": 1,
      "outputs": [
        {
          "output_type": "stream",
          "name": "stdout",
          "text": [
            "Drive already mounted at /content/drive; to attempt to forcibly remount, call drive.mount(\"/content/drive\", force_remount=True).\n"
          ]
        }
      ]
    },
    {
      "cell_type": "markdown",
      "source": [
        "### Dependencies"
      ],
      "metadata": {
        "id": "k-nIRmH32NIx"
      }
    },
    {
      "cell_type": "code",
      "source": [
        "!pip install textblob==0.15.3\n",
        "!pip install autocorrect\n",
        "!pip install unidecode"
      ],
      "metadata": {
        "id": "CfcdR9-q2TxH"
      },
      "execution_count": null,
      "outputs": []
    },
    {
      "cell_type": "markdown",
      "source": [
        "### Imports"
      ],
      "metadata": {
        "id": "ForMaEFz2K5t"
      }
    },
    {
      "cell_type": "code",
      "execution_count": 2,
      "metadata": {
        "id": "vaOrUQ2-ipJI"
      },
      "outputs": [],
      "source": [
        "import matplotlib.pyplot as plt\n",
        "from wordcloud import WordCloud, STOPWORDS\n",
        "from PIL import Image\n",
        "import numpy as np\n",
        "import os\n",
        "import sys\n",
        "import tweepy as tw\n",
        "import pandas as pd"
      ]
    },
    {
      "cell_type": "markdown",
      "source": [
        "### Get Tweeter data"
      ],
      "metadata": {
        "id": "Btg-D_3e2HHF"
      }
    },
    {
      "cell_type": "code",
      "source": [
        "api_keys = eval(open(\"/content/drive/MyDrive/My_projects/api.txt\", 'r').read())"
      ],
      "metadata": {
        "id": "ExuvNINbAIp_"
      },
      "execution_count": 218,
      "outputs": []
    },
    {
      "cell_type": "code",
      "source": [
        "auth = tw.OAuthHandler(api_keys['consumer_key'], api_keys['consumer_secret'])\n",
        "auth.set_access_token(api_keys['access_token'], api_keys['access_token_secret'])\n",
        "api = tw.API(auth,wait_on_rate_limit=True, wait_on_rate_limit_notify=True)\n",
        "\n",
        "tweets = tw.Cursor(api.search,\n",
        "            # q='#BBB OR BBB OR #bbb OR bbb OR #BBB22 OR #bbb22 OR bbb22 OR BBB22 -filter:retweets'\n",
        "            q='#Flutter OR Flutter OR #flutter Or flutter -filter:retweets'\n",
        "            ,lang='en'\n",
        "            # ,since=\"2022-02-17\"\n",
        "            # ,until=\"2022-02-18\"\n",
        "            ,result_type=\"recent\"\n",
        "            ).items(1000)\n",
        "\n",
        "BBB_list = []\n",
        "for tweet in tweets:\n",
        "    BBB_list.append([tweet.created_at,tweet.text])\n",
        "    # BBB_list +=f\" {tweet.text}\"\n",
        "\n",
        "# df_tweet = pd.DataFrame(columns=['created_at','text'],data=BBB_list)\n",
        "# df_tweet.to_csv(\"/content/drive/MyDrive/My_projects/df_tweet.csv\")\n",
        "BBB_string=''\n",
        "for i in BBB_list:\n",
        "    BBB_string +=f\"{i[1]} \"\n",
        "len(BBB_list)"
      ],
      "metadata": {
        "colab": {
          "base_uri": "https://localhost:8080/"
        },
        "id": "iEuZaQOn44Dm",
        "outputId": "272742dd-cfa7-4be0-da7d-90939dcccb4d"
      },
      "execution_count": 220,
      "outputs": [
        {
          "output_type": "execute_result",
          "data": {
            "text/plain": [
              "547"
            ]
          },
          "metadata": {},
          "execution_count": 220
        }
      ]
    },
    {
      "cell_type": "markdown",
      "source": [
        "### Word Cloud"
      ],
      "metadata": {
        "id": "GW0QdFRL13dT"
      }
    },
    {
      "cell_type": "markdown",
      "source": [
        "#### Stopwords"
      ],
      "metadata": {
        "id": "l-d6PD-W1y_3"
      }
    },
    {
      "cell_type": "code",
      "source": [
        "# importa a biblioteca\n",
        "import nltk\n",
        "\n",
        "# baixa as stopwords\n",
        "nltk.download('stopwords')\n",
        "\n",
        "# para escolher as stopwords do português adicionamos a opçaõ de língua \"portuguese\"\n",
        "stopwords = nltk.corpus.stopwords.words('portuguese') + nltk.corpus.stopwords.words('english')\n",
        "stopwords_full = stopwords\n",
        "\n",
        "BBB_stopwords = ['https','pra','co','of','tá','né',\n",
        "                 'hj','vc','ta','pq','on','CO','Co','SGDmAmMPVT',\n",
        "                 'RT','pro','acho','vou','to','tô',\n",
        "                 'siteptbr',\n",
        "                #  'RedeBBB','bbb','BBB','bbb22','BBB22','bbb21','bbb2022','BBB222','chartspostbbb20'\n",
        "                #  'TheSims','thesims','TheSims4','Sims','Sim','Sims4'\n",
        "                #  'Dorama','dorama'\n",
        "                #  'SNK','AOT','AttackOnTitan', 'ShingekiNoKyojin','anime','Attack on Titan'\n",
        "                 'flutter','Flutter'\n",
        "                #  'NFT','nft'\n",
        "                #  'monark','Monark'\n",
        "                ]\n",
        "\n",
        "stopwords_full = stopwords + BBB_stopwords"
      ],
      "metadata": {
        "id": "CvYbFkntG-aT",
        "colab": {
          "base_uri": "https://localhost:8080/"
        },
        "outputId": "60024bf3-6bb1-402d-bcfb-302f52b4eaba"
      },
      "execution_count": 221,
      "outputs": [
        {
          "output_type": "stream",
          "name": "stdout",
          "text": [
            "[nltk_data] Downloading package stopwords to /root/nltk_data...\n",
            "[nltk_data]   Package stopwords is already up-to-date!\n"
          ]
        }
      ]
    },
    {
      "cell_type": "markdown",
      "source": [
        "#### Create cloud"
      ],
      "metadata": {
        "id": "ONbW6SdZ2hhh"
      }
    },
    {
      "cell_type": "code",
      "source": [
        "mask_path = '/content/drive/MyDrive/My_projects/twitter-logo.png'\n",
        "mask = np.array(Image.open(mask_path))\n",
        "wc = WordCloud(\n",
        "    background_color='white',\n",
        "    stopwords=stopwords_full,\n",
        "    height=720,\n",
        "    width=1080,\n",
        "    mask=mask,\n",
        "   contour_color='black',\n",
        "   contour_width=2\n",
        ")\n",
        "wc.generate(BBB_string)\n",
        "wc.to_file('BBB_wc.png')"
      ],
      "metadata": {
        "colab": {
          "base_uri": "https://localhost:8080/"
        },
        "id": "zgm8B8IQ5xfq",
        "outputId": "30e67412-b496-4b5a-9d26-4fb22cf71725"
      },
      "execution_count": 222,
      "outputs": [
        {
          "output_type": "execute_result",
          "data": {
            "text/plain": [
              "<wordcloud.wordcloud.WordCloud at 0x7f188dde8d50>"
            ]
          },
          "metadata": {},
          "execution_count": 222
        }
      ]
    },
    {
      "cell_type": "markdown",
      "source": [
        "# Analysis"
      ],
      "metadata": {
        "id": "f_Dh31QJPMan"
      }
    },
    {
      "cell_type": "markdown",
      "source": [
        "##Data cleaning"
      ],
      "metadata": {
        "id": "HUoHqdZd2sKv"
      }
    },
    {
      "cell_type": "code",
      "source": [
        "import re\n",
        "from bs4 import BeautifulSoup \n",
        "from autocorrect import Speller\n",
        "import unidecode\n",
        "import nltk.corpus\n",
        "nltk.download('stopwords')\n",
        "nltk.download('punkt')\n",
        "from nltk.corpus import stopwords\n",
        "from nltk import word_tokenize"
      ],
      "metadata": {
        "colab": {
          "base_uri": "https://localhost:8080/"
        },
        "id": "kNaS1xr14vHA",
        "outputId": "cd5c2071-bfa6-406a-edfd-545bf7258d14"
      },
      "execution_count": 223,
      "outputs": [
        {
          "output_type": "stream",
          "name": "stdout",
          "text": [
            "[nltk_data] Downloading package stopwords to /root/nltk_data...\n",
            "[nltk_data]   Package stopwords is already up-to-date!\n",
            "[nltk_data] Downloading package punkt to /root/nltk_data...\n",
            "[nltk_data]   Package punkt is already up-to-date!\n"
          ]
        }
      ]
    },
    {
      "cell_type": "code",
      "source": [
        "# !wget https://data.iana.org/TLD/tlds-alpha-by-domain.txt\n",
        "# top_level_domains_list = open('tlds-alpha-by-domain.txt','r').read().splitlines()[1:]\n",
        "# print(top_level_domains_list)\n",
        "# top_level_domains_string=\"\"\n",
        "# for i in top_level_domains_list:\n",
        "#     top_level_domains_string += f\"|.{i}\".lower() if top_level_domains_string else f\".{i}\".lower()\n",
        "# print(top_level_domains_string)"
      ],
      "metadata": {
        "id": "dapY9M2C55NM"
      },
      "execution_count": null,
      "outputs": []
    },
    {
      "cell_type": "code",
      "source": [
        "def remove_urls(text):\n",
        "    # Removing all the occurrences of links that starts with https\n",
        "    remove_https = re.sub(r'http\\S+', '', text)\n",
        "    remove_https = re.sub(r'www.+', '', remove_https)\n",
        "    # Remove all the occurrences of text that ends with .com\n",
        "    # remove_com = re.sub(r\"\\ [A-Za-z]*\\.com\", \" \", remove_https)\n",
        "    return remove_https"
      ],
      "metadata": {
        "id": "czebxF3X2yXH"
      },
      "execution_count": 224,
      "outputs": []
    },
    {
      "cell_type": "code",
      "source": [
        "def remove_newlines_tabs(text):\n",
        "    # Replacing all the occurrences of \\n,\\\\n,\\t,\\\\ with a space.\n",
        "    Formatted_text = text.replace('\\\\n', ' ').replace('\\n', ' ').replace('\\t',' ').replace('\\\\', ' ').replace('. com', '.com')\n",
        "    return Formatted_text"
      ],
      "metadata": {
        "id": "lsZr9mygLb2b"
      },
      "execution_count": 225,
      "outputs": []
    },
    {
      "cell_type": "code",
      "source": [
        "def strip_html_tags(text):\n",
        "    # Initiating BeautifulSoup object soup.\n",
        "    soup = BeautifulSoup(text, \"html.parser\")\n",
        "    # Get all the text other than html tags.\n",
        "    stripped_text = soup.get_text(separator=\" \")\n",
        "    return stripped_text"
      ],
      "metadata": {
        "id": "SOotAK9DX8H6"
      },
      "execution_count": 226,
      "outputs": []
    },
    {
      "cell_type": "code",
      "source": [
        "def lower_casing_text(text):\n",
        "    # Convert text to lower case\n",
        "    # lower() - It converts all upperase letter of given string to lowercase.\n",
        "    text = text.lower()\n",
        "    return text"
      ],
      "metadata": {
        "id": "HaU-w__LeoWV"
      },
      "execution_count": 227,
      "outputs": []
    },
    {
      "cell_type": "code",
      "source": [
        "def reducing_incorrect_character_repeatation(text):\n",
        "    \"\"\"\n",
        "    This Function will reduce repeatition to two characters \n",
        "    for alphabets and to one character for punctuations.\n",
        "    \n",
        "    arguments:\n",
        "         input_text: \"text\" of type \"String\".\n",
        "         \n",
        "    return:\n",
        "        value: Finally formatted text with alphabets repeating to \n",
        "        two characters & punctuations limited to one repeatition \n",
        "        \n",
        "    Example:\n",
        "    Input : Realllllllllyyyyy,        Greeeeaaaatttt   !!!!?....;;;;:)\n",
        "    Output : Reallyy, Greeaatt !?.;:)\n",
        "    \n",
        "    \"\"\"\n",
        "    # Pattern matching for all case alphabets\n",
        "    Pattern_alpha = re.compile(r\"([A-Za-z])\\1{1,}\", re.DOTALL)\n",
        "    \n",
        "    # Limiting all the  repeatation to two characters.\n",
        "    Formatted_text = Pattern_alpha.sub(r\"\\1\\1\", text) \n",
        "    \n",
        "    # Pattern matching for all the punctuations that can occur\n",
        "    Pattern_Punct = re.compile(r'([.,/#!$%^&*?;:{}=_`~()+-])\\1{1,}')\n",
        "    \n",
        "    # Limiting punctuations in previously formatted string to only one.\n",
        "    Combined_Formatted = Pattern_Punct.sub(r'\\1', Formatted_text)\n",
        "    \n",
        "    # The below statement is replacing repeatation of spaces that occur more than two times with that of one occurrence.\n",
        "    Final_Formatted = re.sub(' {2,}',' ', Combined_Formatted)\n",
        "    return Final_Formatted"
      ],
      "metadata": {
        "id": "zCjmZmoPibJY"
      },
      "execution_count": 228,
      "outputs": []
    },
    {
      "cell_type": "code",
      "source": [
        "def removing_special_characters(text):\n",
        "    \"\"\"Removing all the special characters except the one that is passed within \n",
        "       the regex to match, as they have imp meaning in the text provided.\n",
        "   \n",
        "    \n",
        "    arguments:\n",
        "         input_text: \"text\" of type \"String\".\n",
        "         \n",
        "    return:\n",
        "        value: Text with removed special characters that don't require.\n",
        "        \n",
        "    Example: \n",
        "    Input : Hello, K-a-j-a-l. Thi*s is $100.05 : the payment that you will recieve! (Is this okay?) \n",
        "    Output :  Hello, Kajal. This is $100.05 : the payment that you will recieve! Is this okay?\n",
        "    \n",
        "   \"\"\"\n",
        "    # The formatted text after removing not necessary punctuations.\n",
        "    Formatted_Text = re.sub(r\"[^a-zA-Z:$-,%.?!]+\", ' ', text) \n",
        "    # In the above regex expression,I am providing necessary set of punctuations that are frequent in this particular dataset.\n",
        "    return Formatted_Text"
      ],
      "metadata": {
        "id": "OwNhDW2RipHE"
      },
      "execution_count": 229,
      "outputs": []
    },
    {
      "cell_type": "code",
      "source": [
        "def spelling_correction(text,lang='en'):\n",
        "    ''' \n",
        "    This function will correct spellings.\n",
        "    \n",
        "    arguments:\n",
        "         input_text: \"text\" of type \"String\".\n",
        "         \n",
        "    return:\n",
        "        value: Text after corrected spellings.\n",
        "        \n",
        "    Example: \n",
        "    Input : This is Oberois from Dlhi who came heree to studdy.\n",
        "    Output : This is Oberoi from Delhi who came here to study.\n",
        "      \n",
        "    \n",
        "    '''\n",
        "    # Check for spellings in English language\n",
        "    spell = Speller(lang=lang)\n",
        "    Corrected_text = spell(text)\n",
        "    return Corrected_text"
      ],
      "metadata": {
        "id": "Q8it4_Emivqe"
      },
      "execution_count": 230,
      "outputs": []
    },
    {
      "cell_type": "code",
      "source": [
        "def remove_stopwords(text,lang='en'):\n",
        "\n",
        "    stopwords_list = stopwords.words('english')\n",
        "    if lang == 'pt':\n",
        "        stopwords_list = nltk.corpus.stopwords.words('portuguese')\n",
        "\n",
        "    text = repr(text)\n",
        "    # Text without stopwords\n",
        "    No_StopWords = [word for word in word_tokenize(text) if word.lower() not in stopwords_list ]\n",
        "    # Convert list of tokens_without_stopwords to String type.\n",
        "    words_string = ' '.join(No_StopWords)    \n",
        "    return words_string"
      ],
      "metadata": {
        "id": "qyBmt9hLo9DU"
      },
      "execution_count": 231,
      "outputs": []
    },
    {
      "cell_type": "code",
      "source": [
        "def pre_process(text, lang ='en'):\n",
        "    text = remove_urls(text.lower())\n",
        "    text = remove_newlines_tabs(text)\n",
        "    text = unidecode.unidecode(text) # remove acentos\n",
        "    text = remove_stopwords(text,lang)\n",
        "    text = reducing_incorrect_character_repeatation(text)\n",
        "    text = removing_special_characters(text)\n",
        "    spelling_correction(text,lang)\n",
        "    return text"
      ],
      "metadata": {
        "id": "iQhZUacsj10j"
      },
      "execution_count": 232,
      "outputs": []
    },
    {
      "cell_type": "code",
      "source": [
        "text_list = ['O Arthur tá insuportável!!! #BBB22 E o Arthur #RedeBBBB #JadePicon #JadePicon Que o Arthur https://t.co/akhVbZI4MJ',\n",
        "             '• Opinem!🗯 ESLOVÊNIA 🇸🇮 #BBB22 , Arthur anjo , scooby e pa, linna e jessi, #arthuraguiar , #JadePicon',\n",
        "             '@jadepicon provocandoo Arthur ADM, sabe que o emoji dele é um pão 😭😭😭😭😭😭😭😭😭😭😭','@JadePInfos @jadepicon EUUUU VAMOOO cambada 💖',\n",
        "             '@Annasousa_9 @jadepicon BRIGADA NENEEEE','Eu vendo os adm da @jadepicon E do @iampauloandre interagindo e zoando com as situações hahaha amooooo 💜💓 https://t.co/X44tw64Qn2',\n",
        "             '@comentacaroles É ESSE TIPO DE TRABALHO TEM QUE SE FEITO DESMENTIR NA HORA QUALQUER FAKE @jadepicon @LeoPicon']\n",
        "for text in text_list:\n",
        "    print(pre_process(text,'pt'))"
      ],
      "metadata": {
        "colab": {
          "base_uri": "https://localhost:8080/"
        },
        "id": "2YMykXNVkeAs",
        "outputId": "a40f2bcd-174f-4851-b76e-b24e02874629"
      },
      "execution_count": 206,
      "outputs": [
        {
          "output_type": "stream",
          "name": "stdout",
          "text": [
            "'o arthur ta insuportavel ! ! ! bb arthur redebb jadepicon jadepicon arthur '\n",
            "['O', 'Arthur', 'tá', 'insuportável', '!', '!', '!', '#', 'BBB22', 'E', 'o', 'Arthur', '#', 'RedeBBBB', '#', 'JadePicon', '#', 'JadePicon', 'Que', 'o', 'Arthur', 'https', ':', '//t.co/akhVbZI4MJ']\n",
            "'* opinem ! eslovenia bb , arthur anjo , scooby pa , linna jessi , arthuraguiar , jadepicon '\n",
            "['•', 'Opinem', '!', '🗯', 'ESLOVÊNIA', '🇸🇮', '#', 'BBB22', ',', 'Arthur', 'anjo', ',', 'scooby', 'e', 'pa', ',', 'linna', 'e', 'jessi', ',', '#', 'arthuraguiar', ',', '#', 'JadePicon']\n",
            "' jadepicon provocandoo arthur adm , sabe emoji pao '\n",
            "['@', 'jadepicon', 'provocandoo', 'Arthur', 'ADM', ',', 'sabe', 'que', 'o', 'emoji', 'dele', 'é', 'um', 'pão', '😭😭😭😭😭😭😭😭😭😭😭']\n",
            "' jadepinfos jadepicon euu vamoo cambada '\n",
            "['@', 'JadePInfos', '@', 'jadepicon', 'EUUUU', 'VAMOOO', 'cambada', '💖']\n",
            "' annasousa jadepicon brigada nenee '\n",
            "['@', 'Annasousa_9', '@', 'jadepicon', 'BRIGADA', 'NENEEEE']\n",
            "'eu vendo adm jadepicon iampauloandre interagindo zoando situacoes hahaha amoo '\n",
            "['Eu', 'vendo', 'os', 'adm', 'da', '@', 'jadepicon', 'E', 'do', '@', 'iampauloandre', 'interagindo', 'e', 'zoando', 'com', 'as', 'situações', 'hahaha', 'amooooo', '💜💓', 'https', ':', '//t.co/X44tw64Qn2']\n",
            "' comentacaroles tipo trabalho feito desmentir hora qualquer fake jadepicon leopicon '\n",
            "['@', 'comentacaroles', 'É', 'ESSE', 'TIPO', 'DE', 'TRABALHO', 'TEM', 'QUE', 'SE', 'FEITO', 'DESMENTIR', 'NA', 'HORA', 'QUALQUER', 'FAKE', '@', 'jadepicon', '@', 'LeoPicon']\n"
          ]
        }
      ]
    },
    {
      "cell_type": "markdown",
      "source": [
        "##Analisis"
      ],
      "metadata": {
        "id": "q3o1P8gP2tEr"
      }
    },
    {
      "cell_type": "code",
      "source": [
        "from textblob import TextBlob"
      ],
      "metadata": {
        "id": "hCE5TnH4RS7_"
      },
      "execution_count": 233,
      "outputs": []
    },
    {
      "cell_type": "code",
      "source": [
        "def is_english(text):\n",
        "    if text.detect_language() == 'en':\n",
        "        return True\n",
        "    return False"
      ],
      "metadata": {
        "id": "opWA9SA4RyMP"
      },
      "execution_count": 234,
      "outputs": []
    },
    {
      "cell_type": "code",
      "source": [
        "def tweet_analysis():\n",
        "    polarities = []\n",
        "    erros = 0\n",
        "    Tweets_data=[]\n",
        "    for n,tweet in enumerate(BBB_list):\n",
        "        # if n>100:\n",
        "        #     break\n",
        "        phrase = TextBlob(pre_process(tweet[1],'en'))\n",
        "        \n",
        "        try:\n",
        "            # if not is_english(phrase):\n",
        "            # phrase = TextBlob(str(phrase.translate(to='en')))\n",
        "\n",
        "            if (phrase.sentiment.polarity != 0.0 and phrase.sentiment.subjectivity != 0.0):\n",
        "                polarities.append(phrase.sentiment.polarity)\n",
        "\n",
        "\n",
        "            # print('Tweet: ' + tweet[1])\n",
        "            # print('Polarity: ' + str(phrase.sentiment.polarity) + \" \\ \" + str(phrase.sentiment.subjectivity))\n",
        "            # print('.....................')\n",
        "            Tweets_data.append([tweet[0],tweet[1],phrase.sentiment.polarity,phrase.sentiment.subjectivity])\n",
        "        except:\n",
        "            erros+=1\n",
        "            print(f\"erro n: {erros}\")\n",
        "            pass\n",
        "\n",
        "    print(f\"erro n: {erros}\")\n",
        "    return pd.DataFrame(columns=['time','tweet','polarity','subjectivity'],data=Tweets_data)"
      ],
      "metadata": {
        "id": "dJAEaXy3XrRW"
      },
      "execution_count": 239,
      "outputs": []
    },
    {
      "cell_type": "code",
      "source": [
        "def print_result(mean):\n",
        "    if mean > 0.0:\n",
        "        print(f\"POSITIVE \\nMean:{mean}\")\n",
        "    elif mean == 0.0:\n",
        "        print(f\"NEUTRO \\nMean:{mean}\")\n",
        "    else:\n",
        "        print(f\"NEGATIVE \\nMean:{mean}\")"
      ],
      "metadata": {
        "id": "V6BpJU6Zbatp"
      },
      "execution_count": 240,
      "outputs": []
    },
    {
      "cell_type": "code",
      "source": [
        "df_tweets = tweet_analysis()\n",
        "df_tweets"
      ],
      "metadata": {
        "colab": {
          "base_uri": "https://localhost:8080/",
          "height": 437
        },
        "id": "s_sIURvVbgwn",
        "outputId": "4f32975d-8a40-4dc6-f09b-42f4a8948149"
      },
      "execution_count": 241,
      "outputs": [
        {
          "output_type": "stream",
          "name": "stdout",
          "text": [
            "erro n: 0\n"
          ]
        },
        {
          "output_type": "execute_result",
          "data": {
            "text/html": [
              "\n",
              "  <div id=\"df-199e6eca-7985-4009-8aee-e4c624c079f3\">\n",
              "    <div class=\"colab-df-container\">\n",
              "      <div>\n",
              "<style scoped>\n",
              "    .dataframe tbody tr th:only-of-type {\n",
              "        vertical-align: middle;\n",
              "    }\n",
              "\n",
              "    .dataframe tbody tr th {\n",
              "        vertical-align: top;\n",
              "    }\n",
              "\n",
              "    .dataframe thead th {\n",
              "        text-align: right;\n",
              "    }\n",
              "</style>\n",
              "<table border=\"1\" class=\"dataframe\">\n",
              "  <thead>\n",
              "    <tr style=\"text-align: right;\">\n",
              "      <th></th>\n",
              "      <th>time</th>\n",
              "      <th>tweet</th>\n",
              "      <th>polarity</th>\n",
              "      <th>subjectivity</th>\n",
              "    </tr>\n",
              "  </thead>\n",
              "  <tbody>\n",
              "    <tr>\n",
              "      <th>0</th>\n",
              "      <td>2022-02-21 02:23:51</td>\n",
              "      <td>The anatomy of flutter \\nEverything is flutter...</td>\n",
              "      <td>0.000000</td>\n",
              "      <td>0.000000</td>\n",
              "    </tr>\n",
              "    <tr>\n",
              "      <th>1</th>\n",
              "      <td>2022-02-21 02:23:46</td>\n",
              "      <td>@mssakshinarula A calm demeanour.\\nFolk who fl...</td>\n",
              "      <td>0.050000</td>\n",
              "      <td>0.375000</td>\n",
              "    </tr>\n",
              "    <tr>\n",
              "      <th>2</th>\n",
              "      <td>2022-02-21 02:23:44</td>\n",
              "      <td>Here is where flutter comes in:\\n\\nFlutter is ...</td>\n",
              "      <td>0.216667</td>\n",
              "      <td>0.595238</td>\n",
              "    </tr>\n",
              "    <tr>\n",
              "      <th>3</th>\n",
              "      <td>2022-02-21 01:00:02</td>\n",
              "      <td>I will design modern ui ux for app or website ...</td>\n",
              "      <td>0.200000</td>\n",
              "      <td>0.300000</td>\n",
              "    </tr>\n",
              "    <tr>\n",
              "      <th>4</th>\n",
              "      <td>2022-02-21 00:00:00</td>\n",
              "      <td>Buy Google Voice Accounts Or  Phone Number\\nht...</td>\n",
              "      <td>0.000000</td>\n",
              "      <td>0.000000</td>\n",
              "    </tr>\n",
              "    <tr>\n",
              "      <th>...</th>\n",
              "      <td>...</td>\n",
              "      <td>...</td>\n",
              "      <td>...</td>\n",
              "      <td>...</td>\n",
              "    </tr>\n",
              "    <tr>\n",
              "      <th>542</th>\n",
              "      <td>2022-02-12 18:13:19</td>\n",
              "      <td>I'm not even opposed to gambling. Like a flutt...</td>\n",
              "      <td>-0.125000</td>\n",
              "      <td>0.200000</td>\n",
              "    </tr>\n",
              "    <tr>\n",
              "      <th>543</th>\n",
              "      <td>2022-02-12 18:06:42</td>\n",
              "      <td>As a solo developer do you outsource ✏️design ...</td>\n",
              "      <td>0.200000</td>\n",
              "      <td>0.400000</td>\n",
              "    </tr>\n",
              "    <tr>\n",
              "      <th>544</th>\n",
              "      <td>2022-02-12 17:53:32</td>\n",
              "      <td>flutter OR android-studio</td>\n",
              "      <td>0.000000</td>\n",
              "      <td>0.000000</td>\n",
              "    </tr>\n",
              "    <tr>\n",
              "      <th>545</th>\n",
              "      <td>2022-02-12 17:25:06</td>\n",
              "      <td>@segunDev @Elixir_Js It's good to pick somethi...</td>\n",
              "      <td>0.433333</td>\n",
              "      <td>0.666667</td>\n",
              "    </tr>\n",
              "    <tr>\n",
              "      <th>546</th>\n",
              "      <td>2022-02-12 17:25:00</td>\n",
              "      <td>💕 #ValentinesWeekend is upon us and love is in...</td>\n",
              "      <td>0.214286</td>\n",
              "      <td>0.371429</td>\n",
              "    </tr>\n",
              "  </tbody>\n",
              "</table>\n",
              "<p>547 rows × 4 columns</p>\n",
              "</div>\n",
              "      <button class=\"colab-df-convert\" onclick=\"convertToInteractive('df-199e6eca-7985-4009-8aee-e4c624c079f3')\"\n",
              "              title=\"Convert this dataframe to an interactive table.\"\n",
              "              style=\"display:none;\">\n",
              "        \n",
              "  <svg xmlns=\"http://www.w3.org/2000/svg\" height=\"24px\"viewBox=\"0 0 24 24\"\n",
              "       width=\"24px\">\n",
              "    <path d=\"M0 0h24v24H0V0z\" fill=\"none\"/>\n",
              "    <path d=\"M18.56 5.44l.94 2.06.94-2.06 2.06-.94-2.06-.94-.94-2.06-.94 2.06-2.06.94zm-11 1L8.5 8.5l.94-2.06 2.06-.94-2.06-.94L8.5 2.5l-.94 2.06-2.06.94zm10 10l.94 2.06.94-2.06 2.06-.94-2.06-.94-.94-2.06-.94 2.06-2.06.94z\"/><path d=\"M17.41 7.96l-1.37-1.37c-.4-.4-.92-.59-1.43-.59-.52 0-1.04.2-1.43.59L10.3 9.45l-7.72 7.72c-.78.78-.78 2.05 0 2.83L4 21.41c.39.39.9.59 1.41.59.51 0 1.02-.2 1.41-.59l7.78-7.78 2.81-2.81c.8-.78.8-2.07 0-2.86zM5.41 20L4 18.59l7.72-7.72 1.47 1.35L5.41 20z\"/>\n",
              "  </svg>\n",
              "      </button>\n",
              "      \n",
              "  <style>\n",
              "    .colab-df-container {\n",
              "      display:flex;\n",
              "      flex-wrap:wrap;\n",
              "      gap: 12px;\n",
              "    }\n",
              "\n",
              "    .colab-df-convert {\n",
              "      background-color: #E8F0FE;\n",
              "      border: none;\n",
              "      border-radius: 50%;\n",
              "      cursor: pointer;\n",
              "      display: none;\n",
              "      fill: #1967D2;\n",
              "      height: 32px;\n",
              "      padding: 0 0 0 0;\n",
              "      width: 32px;\n",
              "    }\n",
              "\n",
              "    .colab-df-convert:hover {\n",
              "      background-color: #E2EBFA;\n",
              "      box-shadow: 0px 1px 2px rgba(60, 64, 67, 0.3), 0px 1px 3px 1px rgba(60, 64, 67, 0.15);\n",
              "      fill: #174EA6;\n",
              "    }\n",
              "\n",
              "    [theme=dark] .colab-df-convert {\n",
              "      background-color: #3B4455;\n",
              "      fill: #D2E3FC;\n",
              "    }\n",
              "\n",
              "    [theme=dark] .colab-df-convert:hover {\n",
              "      background-color: #434B5C;\n",
              "      box-shadow: 0px 1px 3px 1px rgba(0, 0, 0, 0.15);\n",
              "      filter: drop-shadow(0px 1px 2px rgba(0, 0, 0, 0.3));\n",
              "      fill: #FFFFFF;\n",
              "    }\n",
              "  </style>\n",
              "\n",
              "      <script>\n",
              "        const buttonEl =\n",
              "          document.querySelector('#df-199e6eca-7985-4009-8aee-e4c624c079f3 button.colab-df-convert');\n",
              "        buttonEl.style.display =\n",
              "          google.colab.kernel.accessAllowed ? 'block' : 'none';\n",
              "\n",
              "        async function convertToInteractive(key) {\n",
              "          const element = document.querySelector('#df-199e6eca-7985-4009-8aee-e4c624c079f3');\n",
              "          const dataTable =\n",
              "            await google.colab.kernel.invokeFunction('convertToInteractive',\n",
              "                                                     [key], {});\n",
              "          if (!dataTable) return;\n",
              "\n",
              "          const docLinkHtml = 'Like what you see? Visit the ' +\n",
              "            '<a target=\"_blank\" href=https://colab.research.google.com/notebooks/data_table.ipynb>data table notebook</a>'\n",
              "            + ' to learn more about interactive tables.';\n",
              "          element.innerHTML = '';\n",
              "          dataTable['output_type'] = 'display_data';\n",
              "          await google.colab.output.renderOutput(dataTable, element);\n",
              "          const docLink = document.createElement('div');\n",
              "          docLink.innerHTML = docLinkHtml;\n",
              "          element.appendChild(docLink);\n",
              "        }\n",
              "      </script>\n",
              "    </div>\n",
              "  </div>\n",
              "  "
            ],
            "text/plain": [
              "                   time  ... subjectivity\n",
              "0   2022-02-21 02:23:51  ...     0.000000\n",
              "1   2022-02-21 02:23:46  ...     0.375000\n",
              "2   2022-02-21 02:23:44  ...     0.595238\n",
              "3   2022-02-21 01:00:02  ...     0.300000\n",
              "4   2022-02-21 00:00:00  ...     0.000000\n",
              "..                  ...  ...          ...\n",
              "542 2022-02-12 18:13:19  ...     0.200000\n",
              "543 2022-02-12 18:06:42  ...     0.400000\n",
              "544 2022-02-12 17:53:32  ...     0.000000\n",
              "545 2022-02-12 17:25:06  ...     0.666667\n",
              "546 2022-02-12 17:25:00  ...     0.371429\n",
              "\n",
              "[547 rows x 4 columns]"
            ]
          },
          "metadata": {},
          "execution_count": 241
        }
      ]
    },
    {
      "cell_type": "code",
      "source": [
        "polarity_mean = np.mean(df_tweets['polarity'])\n",
        "print_result(polarity_mean)"
      ],
      "metadata": {
        "colab": {
          "base_uri": "https://localhost:8080/"
        },
        "id": "a9rgmm6DXdw-",
        "outputId": "584a7f2a-5006-489e-d18c-816734256c4e"
      },
      "execution_count": 244,
      "outputs": [
        {
          "output_type": "stream",
          "name": "stdout",
          "text": [
            "POSITIVE \n",
            "Mean:0.11407261037002825\n"
          ]
        }
      ]
    },
    {
      "cell_type": "code",
      "source": [
        "weighted_polarity_mean = np.average(df_tweets['polarity'],weights=df_tweets['subjectivity'])\n",
        "print_result(weighted_polarity_mean)"
      ],
      "metadata": {
        "colab": {
          "base_uri": "https://localhost:8080/"
        },
        "id": "rbBKnkCBZwSY",
        "outputId": "a27cbcc4-1fda-4d48-a625-1c3f7960da48"
      },
      "execution_count": 245,
      "outputs": [
        {
          "output_type": "stream",
          "name": "stdout",
          "text": [
            "POSITIVE \n",
            "Mean:0.20877694705873023\n"
          ]
        }
      ]
    }
  ]
}